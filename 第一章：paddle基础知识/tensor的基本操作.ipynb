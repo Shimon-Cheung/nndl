{
 "cells": [
  {
   "cell_type": "markdown",
   "metadata": {
    "pycharm": {
     "name": "#%% md\n"
    }
   },
   "source": [
    "## 创建张量"
   ]
  },
  {
   "cell_type": "code",
   "execution_count": 11,
   "metadata": {
    "collapsed": false,
    "jupyter": {
     "outputs_hidden": false
    },
    "pycharm": {
     "name": "#%%\n"
    }
   },
   "outputs": [
    {
     "name": "stdout",
     "output_type": "stream",
     "text": [
      "Tensor(shape=[4], dtype=float32, place=Place(cpu), stop_gradient=True,\n",
      "       [1., 2., 3., 4.])\n",
      "Tensor(shape=[2, 2], dtype=float32, place=Place(cpu), stop_gradient=True,\n",
      "       [[1., 1.],\n",
      "        [1., 1.]])\n",
      "Tensor(shape=[2, 2, 3], dtype=float32, place=Place(cpu), stop_gradient=True,\n",
      "       [[[1., 1., 1.],\n",
      "         [1., 1., 1.]],\n",
      "\n",
      "        [[1., 1., 1.],\n",
      "         [1., 1., 1.]]])\n"
     ]
    }
   ],
   "source": [
    "# 导入基础库\n",
    "import paddle\n",
    "import numpy as np\n",
    "\n",
    "# 直接使用python列表的形式创建tensor\n",
    "tensor_ndim_1 = paddle.to_tensor([1,2,3,4],dtype=paddle.float32)\n",
    "print(tensor_ndim_1)\n",
    "\n",
    "# 使用numpy对象直接转化成tensor对象\n",
    "tensor_ndim_2 = paddle.to_tensor(data=np.ones((2,2)),dtype=paddle.float32)\n",
    "print(tensor_ndim_2)\n",
    "\n",
    "# 直接使用paddle自带的函数创建tensor对象\n",
    "tensor_ndim_3 = paddle.ones((2,2,3),dtype=paddle.float32)\n",
    "print(tensor_ndim_3)"
   ]
  },
  {
   "cell_type": "markdown",
   "metadata": {
    "pycharm": {
     "name": "#%% md\n"
    }
   },
   "source": [
    "## tensor里面的属性"
   ]
  },
  {
   "cell_type": "markdown",
   "metadata": {
    "pycharm": {
     "name": "#%% md\n"
    }
   },
   "source": []
  },
  {
   "cell_type": "code",
   "execution_count": 7,
   "metadata": {
    "collapsed": false,
    "jupyter": {
     "outputs_hidden": false
    },
    "pycharm": {
     "name": "#%%\n"
    }
   },
   "outputs": [
    {
     "name": "stdout",
     "output_type": "stream",
     "text": [
      "3\n",
      "[2, 2, 3]\n",
      "12\n",
      "[[[1. 1. 1.]\n",
      "  [1. 1. 1.]]\n",
      "\n",
      " [[1. 1. 1.]\n",
      "  [1. 1. 1.]]]\n"
     ]
    }
   ],
   "source": [
    "print(tensor_ndim_3.ndim) # 维度信息\n",
    "print(tensor_ndim_3.shape) # shape信息\n",
    "print(tensor_ndim_3.size) # 元素个数\n",
    "print(tensor_ndim_3.numpy()) # 还原成np格式"
   ]
  },
  {
   "cell_type": "markdown",
   "metadata": {
    "pycharm": {
     "name": "#%% md\n"
    }
   },
   "source": [
    "## tensor进行计算"
   ]
  },
  {
   "cell_type": "code",
   "execution_count": 8,
   "metadata": {
    "collapsed": false,
    "jupyter": {
     "outputs_hidden": false
    },
    "pycharm": {
     "name": "#%%\n"
    }
   },
   "outputs": [
    {
     "data": {
      "text/plain": "Tensor(shape=[2, 3], dtype=float32, place=Place(cpu), stop_gradient=True,\n       [[6. , 8. , 10.],\n        [12., 14., 16.]])"
     },
     "execution_count": 8,
     "metadata": {},
     "output_type": "execute_result"
    }
   ],
   "source": [
    "sum_a = paddle.to_tensor([[1,2,3],[4,5,6]],dtype=paddle.float32)\n",
    "sum_b = paddle.to_tensor([[5,6,7],[8,9,10]],dtype=paddle.float32)\n",
    "sum_a + sum_b"
   ]
  },
  {
   "cell_type": "markdown",
   "metadata": {
    "pycharm": {
     "name": "#%% md\n"
    }
   },
   "source": [
    "## 关于axis的使用"
   ]
  },
  {
   "cell_type": "code",
   "execution_count": 9,
   "metadata": {
    "pycharm": {
     "name": "#%%\n"
    }
   },
   "outputs": [
    {
     "data": {
      "text/plain": "Tensor(shape=[2], dtype=float32, place=Place(cpu), stop_gradient=True,\n       [20., 20.])"
     },
     "execution_count": 9,
     "metadata": {},
     "output_type": "execute_result"
    }
   ],
   "source": [
    "from matplotlib.pyplot import axis\n",
    "\n",
    "\n",
    "a = paddle.ones((2,5,4),dtype=paddle.float32)\n",
    "# 这里我们需要按照 axis = [1,2] 求和 其实就是吧 上面的shape里面的 1 , 2 对应索引位置的值消除 所以最后就是2\n",
    "paddle.sum(a,axis=[1,2])"
   ]
  },
  {
   "cell_type": "code",
   "execution_count": 5,
   "metadata": {
    "pycharm": {
     "name": "#%%\n"
    }
   },
   "outputs": [
    {
     "data": {
      "text/plain": "Tensor(shape=[2, 1, 4], dtype=float32, place=Place(cpu), stop_gradient=True,\n       [[[5., 5., 5., 5.]],\n\n        [[5., 5., 5., 5.]]])"
     },
     "execution_count": 5,
     "metadata": {},
     "output_type": "execute_result"
    }
   ],
   "source": [
    "# 这里还有一个参数叫keepdim如果设置为True，那么对应原本需要消除的数据们现在直接给1\n",
    "paddle.sum(a,axis=[1],keepdim=True)"
   ]
  },
  {
   "cell_type": "markdown",
   "source": [],
   "metadata": {
    "collapsed": false,
    "pycharm": {
     "name": "#%% md\n"
    }
   }
  }
 ],
 "metadata": {
  "kernelspec": {
   "name": "python3",
   "language": "python",
   "display_name": "Python 3 (ipykernel)"
  },
  "language_info": {
   "codemirror_mode": {
    "name": "ipython",
    "version": 3
   },
   "file_extension": ".py",
   "mimetype": "text/x-python",
   "name": "python",
   "nbconvert_exporter": "python",
   "pygments_lexer": "ipython3",
   "version": "3.9.12"
  },
  "vscode": {
   "interpreter": {
    "hash": "b373cc59e68e40dcefc1395c9af63dc421150eca4d6f97b836d871ab51e6f0bc"
   }
  }
 },
 "nbformat": 4,
 "nbformat_minor": 4
}